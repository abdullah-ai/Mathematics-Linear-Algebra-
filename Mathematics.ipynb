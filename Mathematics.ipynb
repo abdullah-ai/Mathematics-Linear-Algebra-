{
 "cells": [
  {
   "cell_type": "markdown",
   "id": "ece168d5",
   "metadata": {},
   "source": [
    "# Mathematics(Linear Algebra)"
   ]
  },
  {
   "cell_type": "markdown",
   "id": "87b48ca5",
   "metadata": {},
   "source": [
    "##### Import relevant libraries "
   ]
  },
  {
   "cell_type": "code",
   "execution_count": 1,
   "id": "ce04c9b7",
   "metadata": {},
   "outputs": [],
   "source": [
    "import numpy as np"
   ]
  },
  {
   "cell_type": "markdown",
   "id": "d39f83e0",
   "metadata": {},
   "source": [
    "###### We will impelment Scalars, Vectors, Metrcies and take some information about each one of them"
   ]
  },
  {
   "cell_type": "markdown",
   "id": "d5ac398a",
   "metadata": {},
   "source": [
    "<img src=\"R.png\">"
   ]
  },
  {
   "cell_type": "markdown",
   "id": "90b8757f",
   "metadata": {},
   "source": [
    "##### Scalars"
   ]
  },
  {
   "cell_type": "markdown",
   "id": "6cbf37be",
   "metadata": {},
   "source": [
    "Scalars are metrcies with only one element,\n",
    "and every number in Linear Algebra are refered as scalar.\n",
    "_________________________________________________________\n",
    "\n",
    "What make Scalars unique is they're are having 0D which mean zero dimension and with geometry that's mean that scalar\n",
    "we can refer to it in geometry as point that have no direction so,\n",
    "Scalar is 0D = Point = no direction \n",
    "\n",
    "_________________________________________________________"
   ]
  },
  {
   "cell_type": "code",
   "execution_count": 4,
   "id": "ff93a244",
   "metadata": {},
   "outputs": [],
   "source": [
    "Scalar = [5]"
   ]
  },
  {
   "cell_type": "code",
   "execution_count": 5,
   "id": "224b91d5",
   "metadata": {},
   "outputs": [
    {
     "data": {
      "text/plain": [
       "[5]"
      ]
     },
     "execution_count": 5,
     "metadata": {},
     "output_type": "execute_result"
    }
   ],
   "source": [
    "Scalar"
   ]
  },
  {
   "cell_type": "markdown",
   "id": "3deb0e1b",
   "metadata": {},
   "source": [
    "##### Vectors"
   ]
  },
  {
   "cell_type": "markdown",
   "id": "c0256104",
   "metadata": {},
   "source": [
    "We can say that Matrcies are a collection of Vectors\n",
    "Vectors have 2 types, The row and Column we need to know the Length of the Vector\n",
    "which is the number of element inside the Vector\n",
    "_________________________________________________________\n",
    "\n",
    "Vectors are 1D one dimensoinal in geometry we can refer to Vector as a Line that have a direction \n",
    "Vectors could be a collection of lines with multiple directions\n",
    "Vector Column type are M * 1, \n",
    "Vector Row type are 1 * M"
   ]
  },
  {
   "cell_type": "code",
   "execution_count": 8,
   "id": "072f20ab",
   "metadata": {},
   "outputs": [],
   "source": [
    "Vector = np.array([2, -4, 9])"
   ]
  },
  {
   "cell_type": "code",
   "execution_count": 9,
   "id": "ea32a977",
   "metadata": {},
   "outputs": [
    {
     "data": {
      "text/plain": [
       "array([ 2, -4,  9])"
      ]
     },
     "execution_count": 9,
     "metadata": {},
     "output_type": "execute_result"
    }
   ],
   "source": [
    "Vector"
   ]
  },
  {
   "cell_type": "markdown",
   "id": "7112ca3c",
   "metadata": {},
   "source": [
    "So now we need to see how we can craft a Vector column type\n",
    "and Vector Row type"
   ]
  },
  {
   "cell_type": "code",
   "execution_count": 16,
   "id": "b5dc04bf",
   "metadata": {},
   "outputs": [
    {
     "data": {
      "text/plain": [
       "array([[ 2, -4,  9]])"
      ]
     },
     "execution_count": 16,
     "metadata": {},
     "output_type": "execute_result"
    }
   ],
   "source": [
    "# Vector Row type 1 * M\n",
    "Vector.reshape(1, 3)"
   ]
  },
  {
   "cell_type": "code",
   "execution_count": 17,
   "id": "002f60c4",
   "metadata": {},
   "outputs": [
    {
     "data": {
      "text/plain": [
       "array([[ 2],\n",
       "       [-4],\n",
       "       [ 9]])"
      ]
     },
     "execution_count": 17,
     "metadata": {},
     "output_type": "execute_result"
    }
   ],
   "source": [
    "# Vector Column type M * 1\n",
    "Vector.reshape(3, 1)"
   ]
  },
  {
   "cell_type": "markdown",
   "id": "23e7efb4",
   "metadata": {},
   "source": [
    "##### Matrcies"
   ]
  },
  {
   "cell_type": "markdown",
   "id": "82892145",
   "metadata": {},
   "source": [
    "Matrcie [A] could be m by n array,\n",
    "so[A] could be 3 rows and 4 columns"
   ]
  },
  {
   "cell_type": "code",
   "execution_count": 10,
   "id": "06f5a928",
   "metadata": {},
   "outputs": [],
   "source": [
    "Matrcie = np.array([[5, 12, 6], [-3, 0, 14]])"
   ]
  },
  {
   "cell_type": "code",
   "execution_count": 11,
   "id": "33cfd279",
   "metadata": {},
   "outputs": [
    {
     "data": {
      "text/plain": [
       "array([[ 5, 12,  6],\n",
       "       [-3,  0, 14]])"
      ]
     },
     "execution_count": 11,
     "metadata": {},
     "output_type": "execute_result"
    }
   ],
   "source": [
    "Matrcie"
   ]
  },
  {
   "cell_type": "code",
   "execution_count": 13,
   "id": "7ea58440",
   "metadata": {},
   "outputs": [
    {
     "data": {
      "text/plain": [
       "(2, 3)"
      ]
     },
     "execution_count": 13,
     "metadata": {},
     "output_type": "execute_result"
    }
   ],
   "source": [
    "# Checking the shape of the array it should return 2 rows and 3 columns\n",
    "Matrcie.shape"
   ]
  },
  {
   "cell_type": "markdown",
   "id": "f82df2ca",
   "metadata": {},
   "source": [
    "##### Tensors"
   ]
  },
  {
   "cell_type": "markdown",
   "id": "503cd150",
   "metadata": {},
   "source": [
    "Tensors are the general concepts about everything we explored till now in this notebook\n",
    "We can say Vectors and Scalars and Matrcies are Tensors and Tensor is a collection of Matrcies\n",
    "Tensors could be K * M * N and we will now try to combine two matrcies to creat a Tensor\n",
    "We should also know that Scalars are Tensors from Rank0,\n",
    "Vectors are Tensors from Rank1,\n",
    "Matrcies are Tensors from Rank2"
   ]
  },
  {
   "cell_type": "code",
   "execution_count": 20,
   "id": "274e74cd",
   "metadata": {},
   "outputs": [
    {
     "data": {
      "text/plain": [
       "array([[ 5, 12,  6],\n",
       "       [-3,  0, 14]])"
      ]
     },
     "execution_count": 20,
     "metadata": {},
     "output_type": "execute_result"
    }
   ],
   "source": [
    "m1 =np.array([[5,12,6], [-3,0,14]])\n",
    "m1"
   ]
  },
  {
   "cell_type": "code",
   "execution_count": 21,
   "id": "f1353075",
   "metadata": {},
   "outputs": [
    {
     "data": {
      "text/plain": [
       "array([[ 9,  8,  7],\n",
       "       [ 1,  3, -5]])"
      ]
     },
     "execution_count": 21,
     "metadata": {},
     "output_type": "execute_result"
    }
   ],
   "source": [
    "m2 =np.array([[9, 8, 7], [1,3,-5]])\n",
    "m2"
   ]
  },
  {
   "cell_type": "code",
   "execution_count": 27,
   "id": "7d363856",
   "metadata": {},
   "outputs": [
    {
     "data": {
      "text/plain": [
       "array([[[ 5, 12,  6],\n",
       "        [-3,  0, 14]],\n",
       "\n",
       "       [[ 9,  8,  7],\n",
       "        [ 1,  3, -5]]])"
      ]
     },
     "execution_count": 27,
     "metadata": {},
     "output_type": "execute_result"
    }
   ],
   "source": [
    "Tensor=np.array([m1,m2])\n",
    "Tensor\n"
   ]
  },
  {
   "cell_type": "code",
   "execution_count": 28,
   "id": "66dfac1c",
   "metadata": {},
   "outputs": [
    {
     "data": {
      "text/plain": [
       "(2, 2, 3)"
      ]
     },
     "execution_count": 28,
     "metadata": {},
     "output_type": "execute_result"
    }
   ],
   "source": [
    "# Checking it's dimensions to recheck our past info about Tensors have K*M*N\n",
    "Tensor.shape"
   ]
  },
  {
   "cell_type": "markdown",
   "id": "9674c591",
   "metadata": {},
   "source": [
    "### Now it's time to learn how to add and substract different Matrcies"
   ]
  },
  {
   "cell_type": "markdown",
   "id": "8203b2f1",
   "metadata": {},
   "source": [
    "First of all the chossen Matrcies should have the same Dimensions"
   ]
  },
  {
   "cell_type": "markdown",
   "id": "6304ed53",
   "metadata": {},
   "source": [
    "#### Addition"
   ]
  },
  {
   "cell_type": "code",
   "execution_count": 33,
   "id": "0f477967",
   "metadata": {},
   "outputs": [],
   "source": [
    "# If we have two matrcies\n",
    "Matrcie_1=np.array([[5,12,6], [-3,0,14]])\n",
    "Matrcie_2=np.array([[9,8,7], [1,3,-5]])"
   ]
  },
  {
   "cell_type": "code",
   "execution_count": 34,
   "id": "bf0f3795",
   "metadata": {},
   "outputs": [
    {
     "data": {
      "text/plain": [
       "(2, 3)"
      ]
     },
     "execution_count": 34,
     "metadata": {},
     "output_type": "execute_result"
    }
   ],
   "source": [
    "# We will check their dimesnons to make sure they're the same\n",
    "Matrcie_1.shape"
   ]
  },
  {
   "cell_type": "code",
   "execution_count": 35,
   "id": "0f8cf6d2",
   "metadata": {},
   "outputs": [
    {
     "data": {
      "text/plain": [
       "(2, 3)"
      ]
     },
     "execution_count": 35,
     "metadata": {},
     "output_type": "execute_result"
    }
   ],
   "source": [
    "Matrcie_2.shape"
   ]
  },
  {
   "cell_type": "markdown",
   "id": "34b6451d",
   "metadata": {},
   "source": [
    "Adding up the element we will have element number one in matrcie_1 and matrcie_2 will result in the new matrcie \n",
    "is 5+9 will result 14 and that will be the new element in the new matrcie"
   ]
  },
  {
   "cell_type": "code",
   "execution_count": 38,
   "id": "8515dce4",
   "metadata": {},
   "outputs": [
    {
     "data": {
      "text/plain": [
       "[array([[14, 20, 13],\n",
       "        [-2,  3,  9]])]"
      ]
     },
     "execution_count": 38,
     "metadata": {},
     "output_type": "execute_result"
    }
   ],
   "source": [
    "# Simply we will ad it like that\n",
    "New_Matrcie=[Matrcie_1+Matrcie_2]\n",
    "New_Matrcie"
   ]
  },
  {
   "cell_type": "markdown",
   "id": "e3b3a021",
   "metadata": {},
   "source": [
    "#### Subtraction"
   ]
  },
  {
   "cell_type": "code",
   "execution_count": 47,
   "id": "02c35fa3",
   "metadata": {},
   "outputs": [
    {
     "data": {
      "text/plain": [
       "(2, 2)"
      ]
     },
     "execution_count": 47,
     "metadata": {},
     "output_type": "execute_result"
    }
   ],
   "source": [
    "# Here we have two examples of matrcies\n",
    "Matrcie_one=np.array([[5,3],[-2,4]])\n",
    "Matrcie_two=np.array([[7,-5],[3,8]])\n",
    "# Checking the shape of matrcies\n",
    "Matrcie_one.shape\n",
    "Matrcie_one.shape"
   ]
  },
  {
   "cell_type": "code",
   "execution_count": 48,
   "id": "ae929bd1",
   "metadata": {},
   "outputs": [
    {
     "data": {
      "text/plain": [
       "array([[-2,  8],\n",
       "       [-5, -4]])"
      ]
     },
     "execution_count": 48,
     "metadata": {},
     "output_type": "execute_result"
    }
   ],
   "source": [
    "# The same rules in the addition operations applies here too\n",
    "#We will jst do this\n",
    "Sub_Matrcie=(Matrcie_one - Matrcie_two)\n",
    "Sub_Matrcie"
   ]
  }
 ],
 "metadata": {
  "kernelspec": {
   "display_name": "Python 3 (ipykernel)",
   "language": "python",
   "name": "python3"
  },
  "language_info": {
   "codemirror_mode": {
    "name": "ipython",
    "version": 3
   },
   "file_extension": ".py",
   "mimetype": "text/x-python",
   "name": "python",
   "nbconvert_exporter": "python",
   "pygments_lexer": "ipython3",
   "version": "3.10.4"
  }
 },
 "nbformat": 4,
 "nbformat_minor": 5
}
